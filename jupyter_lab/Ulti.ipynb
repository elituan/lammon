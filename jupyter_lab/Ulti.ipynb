{
 "cells": [
  {
   "cell_type": "markdown",
   "id": "269d88ee-cac2-4e52-a405-e06e87e0f487",
   "metadata": {},
   "source": [
    "# Delele dir recursive"
   ]
  },
  {
   "cell_type": "code",
   "execution_count": 20,
   "id": "3025c76d-d983-4b83-a04e-7a7c59150775",
   "metadata": {},
   "outputs": [
    {
     "data": {
      "text/plain": [
       "8147"
      ]
     },
     "execution_count": 20,
     "metadata": {},
     "output_type": "execute_result"
    }
   ],
   "source": [
    "import shutil\n",
    "from pathlib import Path\n",
    "import os\n",
    "\n",
    "val_imgs_path = ('../data/AIC21_Track3_MTMC_Tracking/validation/*/*/img_with_bbox_nl/*.jpg')\n",
    "val_imgs = [x for x in Path().glob(val_imgs_path)]\n",
    "val_imgs[0]\n",
    "len(val_imgs)"
   ]
  },
  {
   "cell_type": "code",
   "execution_count": 19,
   "id": "328d5c1b-b40f-49b7-b420-f0b3dde512dc",
   "metadata": {},
   "outputs": [
    {
     "data": {
      "text/plain": [
       "26969"
      ]
     },
     "execution_count": 19,
     "metadata": {},
     "output_type": "execute_result"
    }
   ],
   "source": [
    "train_imgs_path = ('../data/AIC21_Track3_MTMC_Tracking/train/*/*/img_with_bbox_nl/*.jpg')\n",
    "train_imgs = [x for x in Path().glob(train_imgs_path)]\n",
    "train_imgs[0]\n",
    "len(train_imgs)"
   ]
  },
  {
   "cell_type": "code",
   "execution_count": 22,
   "id": "7e1b5de3-eadb-46f8-bfe9-d882fec49de5",
   "metadata": {},
   "outputs": [
    {
     "ename": "FileNotFoundError",
     "evalue": "[Errno 2] No such file or directory: '../data/AIC21_Track3_MTMC_Tracking/validation/S02/c006/img_with_bbox_nl/001366.jpg'",
     "output_type": "error",
     "traceback": [
      "\u001b[0;31m---------------------------------------------------------------------------\u001b[0m",
      "\u001b[0;31mFileNotFoundError\u001b[0m                         Traceback (most recent call last)",
      "Cell \u001b[0;32mIn [24], line 3\u001b[0m\n\u001b[1;32m      1\u001b[0m all_imgs \u001b[38;5;241m=\u001b[39m val_imgs \u001b[38;5;241m+\u001b[39m train_imgs\n\u001b[1;32m      2\u001b[0m \u001b[38;5;28;01mfor\u001b[39;00m img \u001b[38;5;129;01min\u001b[39;00m all_imgs:\n\u001b[0;32m----> 3\u001b[0m     \u001b[43mos\u001b[49m\u001b[38;5;241;43m.\u001b[39;49m\u001b[43mremove\u001b[49m\u001b[43m(\u001b[49m\u001b[43mimg\u001b[49m\u001b[43m)\u001b[49m\n",
      "\u001b[0;31mFileNotFoundError\u001b[0m: [Errno 2] No such file or directory: '../data/AIC21_Track3_MTMC_Tracking/validation/S02/c006/img_with_bbox_nl/001366.jpg'"
     ]
    }
   ],
   "source": [
    "all_imgs = val_imgs + train_imgs\n",
    "for img in all_imgs:\n",
    "    img.unlink()"
   ]
  },
  {
   "cell_type": "markdown",
   "id": "ae8bc35e-2b0d-40c2-8050-d70352f6d868",
   "metadata": {},
   "source": [
    "# Copy file"
   ]
  },
  {
   "cell_type": "code",
   "execution_count": 40,
   "id": "556f3e75-9799-4878-a554-872b74ab5b78",
   "metadata": {},
   "outputs": [],
   "source": [
    "train_imgs_path = ('../data/AIC21_Track3_MTMC_Tracking/train/*/*/original_img/*.jpg')\n",
    "train_imgs = [x for x in Path().glob(train_imgs_path)]\n",
    "val_imgs_path = ('../data/AIC21_Track3_MTMC_Tracking/validation/*/*/original_img/*.jpg')\n",
    "val_imgs = [x for x in Path().glob(val_imgs_path)]\n",
    "all_imgs = val_imgs + train_imgs"
   ]
  },
  {
   "cell_type": "code",
   "execution_count": 41,
   "id": "e6bff84e-cb65-4408-9167-d613bd13215a",
   "metadata": {},
   "outputs": [
    {
     "data": {
      "text/plain": [
       "PosixPath('../data/AIC21_Track3_MTMC_Tracking/validation/S02/c006/original_img/000001.jpg')"
      ]
     },
     "execution_count": 41,
     "metadata": {},
     "output_type": "execute_result"
    }
   ],
   "source": [
    "all_imgs[0]"
   ]
  },
  {
   "cell_type": "code",
   "execution_count": 42,
   "id": "8357383a-e739-4044-abfe-bc283e8e0f44",
   "metadata": {},
   "outputs": [],
   "source": [
    "des_imgs =  [Path(str(path).replace('AIC21_Track3_MTMC_Tracking', 'aic22_original_frames')) for path in all_imgs ]\n",
    "parent_dirs = list(set([img_path.parents[0] for img_path in des_imgs]))\n"
   ]
  },
  {
   "cell_type": "code",
   "execution_count": 43,
   "id": "a7ee3258-b6e8-4b9b-ac22-65534f34ec12",
   "metadata": {},
   "outputs": [
    {
     "data": {
      "text/plain": [
       "PosixPath('../data/AIC21_Track3_MTMC_Tracking/validation/S02/c006/original_img/000001.jpg')"
      ]
     },
     "execution_count": 43,
     "metadata": {},
     "output_type": "execute_result"
    }
   ],
   "source": [
    "all_imgs[0]"
   ]
  },
  {
   "cell_type": "code",
   "execution_count": 44,
   "id": "1885da6e-4fba-454c-a41d-64f0b3ff263f",
   "metadata": {
    "scrolled": true,
    "tags": []
   },
   "outputs": [
    {
     "data": {
      "text/plain": [
       "[PosixPath('../data/aic22_original_frames/validation/S05/c036/original_img'),\n",
       " PosixPath('../data/aic22_original_frames/train/S04/c033/original_img'),\n",
       " PosixPath('../data/aic22_original_frames/validation/S05/c028/original_img'),\n",
       " PosixPath('../data/aic22_original_frames/train/S04/c039/original_img'),\n",
       " PosixPath('../data/aic22_original_frames/validation/S02/c007/original_img')]"
      ]
     },
     "execution_count": 44,
     "metadata": {},
     "output_type": "execute_result"
    }
   ],
   "source": [
    "parent_dirs[:5]"
   ]
  },
  {
   "cell_type": "code",
   "execution_count": 39,
   "id": "d15b301b-dd86-4517-ba97-6e57c1826dd6",
   "metadata": {},
   "outputs": [],
   "source": [
    "# mkdir\n",
    "for parent_dir in parent_dirs:\n",
    "    parent_dir.mkdir(parents=True, exist_ok=True)\n",
    "    "
   ]
  },
  {
   "cell_type": "code",
   "execution_count": null,
   "id": "e36216f8-f5ff-420c-acac-cd0a9b711a15",
   "metadata": {},
   "outputs": [],
   "source": [
    "# Copy file\n",
    "for i in range(len(all_imgs)):\n",
    "    all_imgs[i].rename(des_imgsmgs[i])"
   ]
  }
 ],
 "metadata": {
  "kernelspec": {
   "display_name": "lmmct_env",
   "language": "python",
   "name": "lmmct_env"
  },
  "language_info": {
   "codemirror_mode": {
    "name": "ipython",
    "version": 3
   },
   "file_extension": ".py",
   "mimetype": "text/x-python",
   "name": "python",
   "nbconvert_exporter": "python",
   "pygments_lexer": "ipython3",
   "version": "3.10.6"
  }
 },
 "nbformat": 4,
 "nbformat_minor": 5
}
